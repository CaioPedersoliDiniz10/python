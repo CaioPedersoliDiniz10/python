{
 "cells": [
  {
   "cell_type": "markdown",
   "metadata": {},
   "source": [
    "# Teorema do Limite Central\n",
    "* **Médias Amostrais**: médias geradas de amostras, geralmente com o propósito de gerar probabilidades\n",
    "* A média de médias amostrais deve ser mais próxima da média da população com um desvio padrão pequeno\n",
    "* Quanto maior a quantidade de amostras e médias amostrais utilizadas, mais próximo estará da média geral da População e menor o desvio padrão"
   ]
  },
  {
   "cell_type": "markdown",
   "metadata": {},
   "source": [
    "<center><h2>Exemplo: Cubo</h2>\n",
    "Consideremos um dado de seis lados. A probabilidade de dar qualquer valor entre 1 e 6 é de ${\\frac {1}{6}}$ ou seja, todos os valores são igualmente possíveis de ocorrer. O conjunto de números possíveis são $[1,2,3,4,5,6]$. Ao realizar a média desse conjunto $(1+2+3+4+5+6)/6$, obtivemos <strong>3.5</strong>.\n",
    "<img src=\"imagens/dado.jpg\" alt=\"Dado\" width=300px />\n",
    "</center>"
   ]
  },
  {
   "cell_type": "markdown",
   "metadata": {},
   "source": [
    "### Importar numpy e matplotlib"
   ]
  },
  {
   "cell_type": "code",
   "execution_count": 2,
   "metadata": {},
   "outputs": [],
   "source": [
    "import numpy as np\n",
    "import matplotlib.pyplot as plt"
   ]
  },
  {
   "cell_type": "markdown",
   "metadata": {},
   "source": [
    "### Média"
   ]
  },
  {
   "cell_type": "code",
   "execution_count": 4,
   "metadata": {},
   "outputs": [
    {
     "data": {
      "text/plain": [
       "np.float64(3.5)"
      ]
     },
     "execution_count": 4,
     "metadata": {},
     "output_type": "execute_result"
    }
   ],
   "source": [
    "np.mean([1,2,3,4,5,6])"
   ]
  },
  {
   "cell_type": "markdown",
   "metadata": {},
   "source": [
    "### Jogar dado aleatoriamente"
   ]
  },
  {
   "cell_type": "code",
   "execution_count": 147,
   "metadata": {},
   "outputs": [
    {
     "data": {
      "text/plain": [
       "array([2, 2, 5, 6, 6, 3, 1, 6, 2, 1, 1, 5, 1, 6, 3, 6, 3, 5, 4, 1, 2, 1,\n",
       "       4, 4, 2, 5, 1, 5, 5, 2, 4, 1, 6, 4, 2, 5, 5, 4, 1, 1, 6, 3, 5, 1,\n",
       "       2, 5, 6, 6, 2, 6, 4, 2, 5, 2, 2, 2, 5, 1, 4, 2, 5, 3, 2, 3, 2, 2,\n",
       "       2, 4, 6, 3, 3, 6, 3, 1, 2, 4, 3, 1, 4, 4, 6, 2, 2, 3, 1, 1, 6, 3,\n",
       "       1, 4, 2, 2, 5, 3, 1, 1, 1, 6, 6, 1], dtype=int32)"
      ]
     },
     "execution_count": 147,
     "metadata": {},
     "output_type": "execute_result"
    }
   ],
   "source": [
    "np.random.randint(1,7,100,)\n"
   ]
  },
  {
   "cell_type": "markdown",
   "metadata": {},
   "source": [
    "### Jogar dado aleatoriamente 6 vezes"
   ]
  },
  {
   "cell_type": "code",
   "execution_count": null,
   "metadata": {},
   "outputs": [],
   "source": []
  },
  {
   "cell_type": "markdown",
   "metadata": {},
   "source": [
    "### Gerar os mesmos números aleatórios\n",
    "Fornecendo um valor como semente _(seed)_ $\\Rightarrow$ \"123\""
   ]
  },
  {
   "cell_type": "code",
   "execution_count": 150,
   "metadata": {},
   "outputs": [
    {
     "data": {
      "text/plain": [
       "array([6, 3, 5, 3, 2, 4], dtype=int32)"
      ]
     },
     "execution_count": 150,
     "metadata": {},
     "output_type": "execute_result"
    }
   ],
   "source": [
    "np.random.seed(123)\n",
    "np.random.randint(1,7,6)"
   ]
  },
  {
   "cell_type": "markdown",
   "metadata": {},
   "source": [
    "### Jogar dado aleatoriamente 40 vezes"
   ]
  },
  {
   "cell_type": "code",
   "execution_count": 186,
   "metadata": {},
   "outputs": [
    {
     "data": {
      "text/plain": [
       "array([3, 3, 3, ..., 3, 5, 4], dtype=int32)"
      ]
     },
     "execution_count": 186,
     "metadata": {},
     "output_type": "execute_result"
    }
   ],
   "source": [
    "#np.random.seed(123)\n",
    "amostra = np.random.randint(1,7,1000000)\n",
    "amostra"
   ]
  },
  {
   "cell_type": "markdown",
   "metadata": {},
   "source": [
    "### Gerar média amostral"
   ]
  },
  {
   "cell_type": "code",
   "execution_count": 187,
   "metadata": {},
   "outputs": [
    {
     "data": {
      "text/plain": [
       "np.float64(3.500127)"
      ]
     },
     "execution_count": 187,
     "metadata": {},
     "output_type": "execute_result"
    }
   ],
   "source": [
    "np.mean(amostra)"
   ]
  },
  {
   "cell_type": "markdown",
   "metadata": {},
   "source": [
    "### Utilizar mil médias amostrais\n",
    "Comprovar o Teorema do Limite Central (TLC)"
   ]
  },
  {
   "cell_type": "code",
   "execution_count": 257,
   "metadata": {},
   "outputs": [
    {
     "data": {
      "image/png": "[encoded data removed]",
      "text/plain": [
       "<Figure size 640x480 with 1 Axes>"
      ]
     },
     "metadata": {},
     "output_type": "display_data"
    }
   ],
   "source": [
    "media_amostrais=[np.mean(np.random.randint(1,7,200)) for _ in range(1000)]\n",
    "plt.hist(media_amostrais)\n",
    "plt.show()"
   ]
  },
  {
   "cell_type": "markdown",
   "metadata": {},
   "source": [
    "### Média"
   ]
  },
  {
   "cell_type": "code",
   "execution_count": 258,
   "metadata": {},
   "outputs": [
    {
     "data": {
      "text/plain": [
       "np.float64(3.499585)"
      ]
     },
     "execution_count": 258,
     "metadata": {},
     "output_type": "execute_result"
    }
   ],
   "source": [
    "np.mean(media_amostrais)"
   ]
  },
  {
   "cell_type": "markdown",
   "metadata": {},
   "source": [
    "### Mediana"
   ]
  },
  {
   "cell_type": "code",
   "execution_count": 259,
   "metadata": {},
   "outputs": [
    {
     "data": {
      "text/plain": [
       "np.float64(3.5)"
      ]
     },
     "execution_count": 259,
     "metadata": {},
     "output_type": "execute_result"
    }
   ],
   "source": [
    "np.median(media_amostrais)"
   ]
  },
  {
   "cell_type": "markdown",
   "metadata": {},
   "source": [
    "### Moda"
   ]
  },
  {
   "cell_type": "code",
   "execution_count": 255,
   "metadata": {},
   "outputs": [],
   "source": [
    "import statistics as stats"
   ]
  },
  {
   "cell_type": "code",
   "execution_count": 260,
   "metadata": {},
   "outputs": [
    {
     "data": {
      "text/plain": [
       "np.float64(3.53)"
      ]
     },
     "execution_count": 260,
     "metadata": {},
     "output_type": "execute_result"
    }
   ],
   "source": [
    "stats.mode(media_amostrais)"
   ]
  },
  {
   "cell_type": "markdown",
   "metadata": {},
   "source": [
    "\n",
    "\n"
   ]
  },
  {
   "cell_type": "markdown",
   "metadata": {},
   "source": [
    "\n",
    "\n"
   ]
  },
  {
   "cell_type": "markdown",
   "metadata": {},
   "source": [
    "\n",
    "\n"
   ]
  },
  {
   "cell_type": "markdown",
   "metadata": {},
   "source": [
    "\n",
    "\n"
   ]
  },
  {
   "cell_type": "markdown",
   "metadata": {},
   "source": [
    "# Teorema do Limite Central em um DataFrame\n",
    "Aplicando o mesmo conceito com um DataFrame de um arquivo CSV"
   ]
  },
  {
   "cell_type": "markdown",
   "metadata": {},
   "source": [
    "### Importar pandas"
   ]
  },
  {
   "cell_type": "code",
   "execution_count": 262,
   "metadata": {},
   "outputs": [],
   "source": [
    "import pandas as pd"
   ]
  },
  {
   "cell_type": "markdown",
   "metadata": {},
   "source": [
    "### Ler DataFrame do arquivo 'weight-height.csv'"
   ]
  },
  {
   "cell_type": "code",
   "execution_count": 263,
   "metadata": {},
   "outputs": [],
   "source": [
    "data= pd.read_csv('weight-height.csv')"
   ]
  },
  {
   "cell_type": "markdown",
   "metadata": {},
   "source": [
    "### Verificar tamanho da amostra"
   ]
  },
  {
   "cell_type": "code",
   "execution_count": 264,
   "metadata": {},
   "outputs": [
    {
     "data": {
      "text/html": [
       "<div>\n",
       "<style scoped>\n",
       "    .dataframe tbody tr th:only-of-type {\n",
       "        vertical-align: middle;\n",
       "    }\n",
       "\n",
       "    .dataframe tbody tr th {\n",
       "        vertical-align: top;\n",
       "    }\n",
       "\n",
       "    .dataframe thead th {\n",
       "        text-align: right;\n",
       "    }\n",
       "</style>\n",
       "<table border=\"1\" class=\"dataframe\">\n",
       "  <thead>\n",
       "    <tr style=\"text-align: right;\">\n",
       "      <th></th>\n",
       "      <th>Gender</th>\n",
       "      <th>Height</th>\n",
       "      <th>Weight</th>\n",
       "    </tr>\n",
       "  </thead>\n",
       "  <tbody>\n",
       "    <tr>\n",
       "      <th>0</th>\n",
       "      <td>Male</td>\n",
       "      <td>73.847017</td>\n",
       "      <td>241.893563</td>\n",
       "    </tr>\n",
       "    <tr>\n",
       "      <th>1</th>\n",
       "      <td>Male</td>\n",
       "      <td>68.781904</td>\n",
       "      <td>162.310473</td>\n",
       "    </tr>\n",
       "    <tr>\n",
       "      <th>2</th>\n",
       "      <td>Male</td>\n",
       "      <td>74.110105</td>\n",
       "      <td>212.740856</td>\n",
       "    </tr>\n",
       "    <tr>\n",
       "      <th>3</th>\n",
       "      <td>Male</td>\n",
       "      <td>71.730978</td>\n",
       "      <td>220.042470</td>\n",
       "    </tr>\n",
       "    <tr>\n",
       "      <th>4</th>\n",
       "      <td>Male</td>\n",
       "      <td>69.881796</td>\n",
       "      <td>206.349801</td>\n",
       "    </tr>\n",
       "    <tr>\n",
       "      <th>...</th>\n",
       "      <td>...</td>\n",
       "      <td>...</td>\n",
       "      <td>...</td>\n",
       "    </tr>\n",
       "    <tr>\n",
       "      <th>9995</th>\n",
       "      <td>Female</td>\n",
       "      <td>66.172652</td>\n",
       "      <td>136.777454</td>\n",
       "    </tr>\n",
       "    <tr>\n",
       "      <th>9996</th>\n",
       "      <td>Female</td>\n",
       "      <td>67.067155</td>\n",
       "      <td>170.867906</td>\n",
       "    </tr>\n",
       "    <tr>\n",
       "      <th>9997</th>\n",
       "      <td>Female</td>\n",
       "      <td>63.867992</td>\n",
       "      <td>128.475319</td>\n",
       "    </tr>\n",
       "    <tr>\n",
       "      <th>9998</th>\n",
       "      <td>Female</td>\n",
       "      <td>69.034243</td>\n",
       "      <td>163.852461</td>\n",
       "    </tr>\n",
       "    <tr>\n",
       "      <th>9999</th>\n",
       "      <td>Female</td>\n",
       "      <td>61.944246</td>\n",
       "      <td>113.649103</td>\n",
       "    </tr>\n",
       "  </tbody>\n",
       "</table>\n",
       "<p>10000 rows × 3 columns</p>\n",
       "</div>"
      ],
      "text/plain": [
       "      Gender     Height      Weight\n",
       "0       Male  73.847017  241.893563\n",
       "1       Male  68.781904  162.310473\n",
       "2       Male  74.110105  212.740856\n",
       "3       Male  71.730978  220.042470\n",
       "4       Male  69.881796  206.349801\n",
       "...      ...        ...         ...\n",
       "9995  Female  66.172652  136.777454\n",
       "9996  Female  67.067155  170.867906\n",
       "9997  Female  63.867992  128.475319\n",
       "9998  Female  69.034243  163.852461\n",
       "9999  Female  61.944246  113.649103\n",
       "\n",
       "[10000 rows x 3 columns]"
      ]
     },
     "execution_count": 264,
     "metadata": {},
     "output_type": "execute_result"
    }
   ],
   "source": [
    "data"
   ]
  },
  {
   "cell_type": "markdown",
   "metadata": {},
   "source": [
    "### Gerar amostra aleatória 5 elementos"
   ]
  },
  {
   "cell_type": "code",
   "execution_count": 269,
   "metadata": {},
   "outputs": [
    {
     "data": {
      "text/plain": [
       "4591    192.794562\n",
       "723     189.985479\n",
       "6996    157.293742\n",
       "3619    213.084105\n",
       "7242    139.194289\n",
       "Name: Weight, dtype: float64"
      ]
     },
     "execution_count": 269,
     "metadata": {},
     "output_type": "execute_result"
    }
   ],
   "source": [
    "data['Weight'].sample(n=5)"
   ]
  },
  {
   "cell_type": "markdown",
   "metadata": {},
   "source": [
    "### Gerar 200 médias amostrais de 50 amostras cada"
   ]
  },
  {
   "cell_type": "code",
   "execution_count": 273,
   "metadata": {},
   "outputs": [],
   "source": [
    "mediasT=[]\n",
    "for _ in range(200):\n",
    "    amostras = data['Weight'].sample(n=50)\n",
    "    medias = np.mean(amostras)\n",
    "    mediasT.append(medias)\n",
    "    "
   ]
  },
  {
   "cell_type": "code",
   "execution_count": 274,
   "metadata": {},
   "outputs": [
    {
     "data": {
      "text/plain": [
       "[np.float64(166.4193623504807),\n",
       " np.float64(160.49700234905723),\n",
       " np.float64(158.24567969935154),\n",
       " np.float64(154.98940996796836),\n",
       " np.float64(162.40042547010532),\n",
       " np.float64(163.97549246330993),\n",
       " np.float64(152.50199973443864),\n",
       " np.float64(164.55963041479234),\n",
       " np.float64(166.19179395878484),\n",
       " np.float64(166.63064893172827),\n",
       " np.float64(158.12834399371542),\n",
       " np.float64(164.67334701960613),\n",
       " np.float64(159.09179558476154),\n",
       " np.float64(161.74205430665015),\n",
       " np.float64(160.36618516572074),\n",
       " np.float64(166.0784956639877),\n",
       " np.float64(164.6284989958098),\n",
       " np.float64(157.97994546132054),\n",
       " np.float64(160.5314344890263),\n",
       " np.float64(166.07788350746884),\n",
       " np.float64(155.70533639800212),\n",
       " np.float64(169.19108333628256),\n",
       " np.float64(158.9498571916949),\n",
       " np.float64(161.07060365177304),\n",
       " np.float64(161.0173944024453),\n",
       " np.float64(161.32365737570325),\n",
       " np.float64(167.77247077446233),\n",
       " np.float64(157.7374087685095),\n",
       " np.float64(165.81102533375798),\n",
       " np.float64(162.769713716802),\n",
       " np.float64(159.23593499700456),\n",
       " np.float64(169.6939072732362),\n",
       " np.float64(163.9889454973271),\n",
       " np.float64(153.0533403565361),\n",
       " np.float64(162.41452171993353),\n",
       " np.float64(164.04355260054322),\n",
       " np.float64(167.358497226221),\n",
       " np.float64(155.09464615885219),\n",
       " np.float64(165.16309951409102),\n",
       " np.float64(155.45355162338333),\n",
       " np.float64(160.03662528943298),\n",
       " np.float64(161.13478530405717),\n",
       " np.float64(170.63968890546036),\n",
       " np.float64(162.7282088920024),\n",
       " np.float64(152.88993870224792),\n",
       " np.float64(168.88223411525695),\n",
       " np.float64(157.1219642795377),\n",
       " np.float64(159.0372866325048),\n",
       " np.float64(170.24212885875033),\n",
       " np.float64(160.80229291568614),\n",
       " np.float64(162.8623023542595),\n",
       " np.float64(162.72189371572094),\n",
       " np.float64(156.97861637791982),\n",
       " np.float64(160.14949275886593),\n",
       " np.float64(156.81639670797367),\n",
       " np.float64(158.5602260461467),\n",
       " np.float64(158.25565187471742),\n",
       " np.float64(164.4268263805281),\n",
       " np.float64(163.63683285200898),\n",
       " np.float64(161.30446466774495),\n",
       " np.float64(158.59042000414678),\n",
       " np.float64(155.24284846859703),\n",
       " np.float64(159.2997108133037),\n",
       " np.float64(163.42649236188274),\n",
       " np.float64(162.29068217697002),\n",
       " np.float64(156.9289768979928),\n",
       " np.float64(168.75707228574643),\n",
       " np.float64(161.12489993116804),\n",
       " np.float64(158.35514822578838),\n",
       " np.float64(155.32978310317804),\n",
       " np.float64(155.13498006271016),\n",
       " np.float64(163.15658541648637),\n",
       " np.float64(166.49662504781935),\n",
       " np.float64(163.0813960543693),\n",
       " np.float64(166.3982275958467),\n",
       " np.float64(164.6485823207258),\n",
       " np.float64(162.61469795199844),\n",
       " np.float64(167.4230376163919),\n",
       " np.float64(164.22466457503543),\n",
       " np.float64(169.56540384537),\n",
       " np.float64(173.4514553207143),\n",
       " np.float64(162.39038570134),\n",
       " np.float64(167.90896472056855),\n",
       " np.float64(168.7107378887211),\n",
       " np.float64(163.37690043399388),\n",
       " np.float64(163.9979305870339),\n",
       " np.float64(163.37431784231657),\n",
       " np.float64(169.0249712944395),\n",
       " np.float64(162.64887779244935),\n",
       " np.float64(158.80116063482538),\n",
       " np.float64(154.87508868741668),\n",
       " np.float64(167.38104751287415),\n",
       " np.float64(169.58783653529525),\n",
       " np.float64(157.30047551972405),\n",
       " np.float64(158.68680207101272),\n",
       " np.float64(155.96267228856038),\n",
       " np.float64(160.63162202680536),\n",
       " np.float64(161.96507227404283),\n",
       " np.float64(169.52675106138537),\n",
       " np.float64(164.61430371326549),\n",
       " np.float64(161.99933304405832),\n",
       " np.float64(172.5055487879272),\n",
       " np.float64(164.72022203763197),\n",
       " np.float64(153.95028118911725),\n",
       " np.float64(165.6819464603589),\n",
       " np.float64(161.20885081716273),\n",
       " np.float64(162.4961868898065),\n",
       " np.float64(158.26217427831176),\n",
       " np.float64(162.5025225118385),\n",
       " np.float64(173.13036271424272),\n",
       " np.float64(161.3829843806009),\n",
       " np.float64(167.70628396843662),\n",
       " np.float64(161.66394762723442),\n",
       " np.float64(166.60016751955322),\n",
       " np.float64(159.76713560559614),\n",
       " np.float64(161.75354095464326),\n",
       " np.float64(163.7529694835852),\n",
       " np.float64(164.9075317252142),\n",
       " np.float64(161.90000809996593),\n",
       " np.float64(162.20118981632837),\n",
       " np.float64(159.58914197995972),\n",
       " np.float64(162.4885855006736),\n",
       " np.float64(165.3807279057266),\n",
       " np.float64(165.91969702812764),\n",
       " np.float64(159.67652669060536),\n",
       " np.float64(164.91319412541282),\n",
       " np.float64(158.58612863947465),\n",
       " np.float64(163.35179351010453),\n",
       " np.float64(157.7108499512907),\n",
       " np.float64(163.65775579741393),\n",
       " np.float64(158.76973172980107),\n",
       " np.float64(167.71134296268002),\n",
       " np.float64(159.90472708152313),\n",
       " np.float64(165.88608781045306),\n",
       " np.float64(152.65632631023195),\n",
       " np.float64(157.95818293679818),\n",
       " np.float64(163.49865082035413),\n",
       " np.float64(156.28338513927457),\n",
       " np.float64(171.34099703401253),\n",
       " np.float64(161.56119397827942),\n",
       " np.float64(160.929868833429),\n",
       " np.float64(160.26773367609854),\n",
       " np.float64(159.58117558047215),\n",
       " np.float64(163.10876221749916),\n",
       " np.float64(163.76535904047543),\n",
       " np.float64(161.98318326748102),\n",
       " np.float64(155.88747226694994),\n",
       " np.float64(159.46010446872478),\n",
       " np.float64(160.17172175044692),\n",
       " np.float64(161.16903273848877),\n",
       " np.float64(162.9296787243402),\n",
       " np.float64(157.29748180901927),\n",
       " np.float64(162.05630104571983),\n",
       " np.float64(164.1449739280761),\n",
       " np.float64(167.14567942290006),\n",
       " np.float64(160.96713648362996),\n",
       " np.float64(162.87837851099147),\n",
       " np.float64(166.03616091636013),\n",
       " np.float64(155.3939521753646),\n",
       " np.float64(156.44553913771696),\n",
       " np.float64(160.2344626981944),\n",
       " np.float64(171.17058512695942),\n",
       " np.float64(161.141655005756),\n",
       " np.float64(157.45739750007235),\n",
       " np.float64(158.8964485915959),\n",
       " np.float64(155.889069284215),\n",
       " np.float64(161.99593661261616),\n",
       " np.float64(165.1664458046181),\n",
       " np.float64(165.86864779698027),\n",
       " np.float64(163.89342963243837),\n",
       " np.float64(151.7502554604814),\n",
       " np.float64(156.84717114958008),\n",
       " np.float64(160.77720825725862),\n",
       " np.float64(159.71341047815685),\n",
       " np.float64(163.82415641081968),\n",
       " np.float64(163.8756495650442),\n",
       " np.float64(164.118800014288),\n",
       " np.float64(163.54674352426127),\n",
       " np.float64(174.23647711495423),\n",
       " np.float64(154.13354350791735),\n",
       " np.float64(163.19105265686284),\n",
       " np.float64(164.09081462673362),\n",
       " np.float64(158.94893925116173),\n",
       " np.float64(167.324793656521),\n",
       " np.float64(163.6167759313856),\n",
       " np.float64(159.5065782745953),\n",
       " np.float64(167.90182708935626),\n",
       " np.float64(161.35612191212053),\n",
       " np.float64(167.0395114543562),\n",
       " np.float64(161.5813349373061),\n",
       " np.float64(159.29346505435007),\n",
       " np.float64(164.5305452827999),\n",
       " np.float64(160.44764084135664),\n",
       " np.float64(168.00615197350749),\n",
       " np.float64(162.12962233308448),\n",
       " np.float64(163.15923686993483),\n",
       " np.float64(158.89107011603593),\n",
       " np.float64(159.46547390260065),\n",
       " np.float64(155.11844859399784),\n",
       " np.float64(171.876536707749)]"
      ]
     },
     "execution_count": 274,
     "metadata": {},
     "output_type": "execute_result"
    }
   ],
   "source": [
    "mediasT"
   ]
  },
  {
   "cell_type": "code",
   "execution_count": 275,
   "metadata": {},
   "outputs": [
    {
     "data": {
      "image/png": "[encoded data removed]",
      "text/plain": [
       "<Figure size 640x480 with 1 Axes>"
      ]
     },
     "metadata": {},
     "output_type": "display_data"
    }
   ],
   "source": [
    "plt.hist(mediasT)\n",
    "plt.show()"
   ]
  }
 ],
 "metadata": {
  "kernelspec": {
   "display_name": "Python 3 (ipykernel)",
   "language": "python",
   "name": "python3"
  },
  "language_info": {
   "codemirror_mode": {
    "name": "ipython",
    "version": 3
   },
   "file_extension": ".py",
   "mimetype": "text/x-python",
   "name": "python",
   "nbconvert_exporter": "python",
   "pygments_lexer": "ipython3",
   "version": "3.13.5"
  }
 },
 "nbformat": 4,
 "nbformat_minor": 4
}
